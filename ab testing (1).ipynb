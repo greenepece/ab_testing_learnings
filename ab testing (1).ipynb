{
 "cells": [
  {
   "cell_type": "code",
   "execution_count": 36,
   "id": "d51ae8cf",
   "metadata": {},
   "outputs": [
    {
     "name": "stdout",
     "output_type": "stream",
     "text": [
      "   Day  Sessions  CtrlConv  Var1Conv  Var2Conv\n",
      "0    1      1000        17        15        20\n",
      "1    2      1200        17        16        19\n",
      "2    3      1100        18        10        30\n",
      "3    4      1050        17        19        17\n",
      "4    5       920        18        17        20\n",
      "5    6       899        17        17        20\n",
      "6    7      1130        17        12        19\n"
     ]
    }
   ],
   "source": [
    "# Import pandas package\n",
    "import pandas as pd\n",
    " \n",
    "# Assign data\n",
    "data = {'Day': [1,2,3,4,5,6,7],\n",
    "        'Sessions': [1000,1200,1100,1050,920,899,1130],\n",
    "        'CtrlConv': [17, 17, 18, 17, 18, 17, 17],\n",
    "        'Var1Conv': [15, 16, 10, 19, 17, 17, 12],\n",
    "        'Var2Conv': [20, 19,30, 17, 20, 20, 19]}\n",
    " \n",
    "# Convert into DataFrame\n",
    "df = pd.DataFrame(data)\n",
    "#set Day as index\n",
    "df.set_index('Day')\n",
    "# Display data\n",
    "print(df)"
   ]
  },
  {
   "cell_type": "code",
   "execution_count": 39,
   "id": "3c98aca2",
   "metadata": {},
   "outputs": [
    {
     "name": "stdout",
     "output_type": "stream",
     "text": [
      "   Day  Sessions  CtrlConv  Var1Conv  Var2Conv  ctrlconvrate  var1convrate  \\\n",
      "0    1      1000        17        15        20      0.017000      0.015000   \n",
      "1    2      1200        17        16        19      0.014167      0.013333   \n",
      "2    3      1100        18        10        30      0.016364      0.009091   \n",
      "3    4      1050        17        19        17      0.016190      0.018095   \n",
      "4    5       920        18        17        20      0.019565      0.018478   \n",
      "5    6       899        17        17        20      0.018910      0.018910   \n",
      "6    7      1130        17        12        19      0.015044      0.010619   \n",
      "\n",
      "   var2convrate  \n",
      "0      0.020000  \n",
      "1      0.015833  \n",
      "2      0.027273  \n",
      "3      0.016190  \n",
      "4      0.021739  \n",
      "5      0.022247  \n",
      "6      0.016814  \n",
      "Day                4.000000\n",
      "Sessions        1042.714286\n",
      "CtrlConv          17.285714\n",
      "Var1Conv          15.142857\n",
      "Var2Conv          20.714286\n",
      "ctrlconvrate       0.016749\n",
      "var1convrate       0.014790\n",
      "var2convrate       0.020014\n",
      "dtype: float64\n"
     ]
    }
   ],
   "source": [
    "df['ctrlconvrate']=df['CtrlConv']/df['Sessions']\n",
    "df['var1convrate']=df['Var1Conv']/df['Sessions']\n",
    "df['var2convrate']=df['Var2Conv']/df['Sessions']\n",
    "dfavg=df.agg(\"mean\", axis=\"rows\")\n",
    "#df = df.append(dfavg, ignore_index = True)\n",
    "#df.at[7,'Day']= '1000'\n",
    "print(df)\n",
    "print(dfavg)"
   ]
  },
  {
   "cell_type": "code",
   "execution_count": 42,
   "id": "b6231110",
   "metadata": {},
   "outputs": [],
   "source": [
    "#avgvar2convrate=df.at[7,'var1convrate']\n",
    "#avgvar1convrate=df.at[7,'var2convrate']\n",
    "#avgctrlconvrate=df.at[7,'ctrlconvrate']\n",
    "#print('control conversion rate is '+ str(ctrlconvrate))\n",
    "#print('var1 conversion rate is '+ str(var1convrate))\n",
    "#print('var2 conversion rate is '+ str(var2convrate))"
   ]
  },
  {
   "cell_type": "code",
   "execution_count": 41,
   "id": "1469b411",
   "metadata": {},
   "outputs": [
    {
     "name": "stdout",
     "output_type": "stream",
     "text": [
      "stat=1.7102, p=0.1381\n",
      "Do not reject the null hypothesis and conclude the means of the paired samples are the same.\n"
     ]
    }
   ],
   "source": [
    "from scipy.stats import ttest_rel\n",
    "import numpy as np #added this\n",
    "# Calculate test statistic and p-value\n",
    "var1conv=df['var1convrate']\n",
    "var2conv=df['var2convrate']\n",
    "ctrlconv=df['ctrlconvrate']\n",
    "stat, p = ttest_rel(ctrlconv,var1conv)\n",
    "\n",
    "# Interpreation\n",
    "print('stat=%.4f, p=%.4f' % (stat, p))\n",
    "if p > 0.05:\n",
    "    print('Do not reject the null hypothesis and conclude the means of the paired samples are the same.')\n",
    "else:\n",
    "    print('Reject the null hypothesis and conclude the means of the paired samples are not the same.')"
   ]
  },
  {
   "cell_type": "code",
   "execution_count": 43,
   "id": "35921f9d",
   "metadata": {},
   "outputs": [
    {
     "name": "stdout",
     "output_type": "stream",
     "text": [
      "stat=-2.4285, p=0.0170\n",
      "Reject the null hypothesis and conclude the means of the paired samples are not the same.\n"
     ]
    }
   ],
   "source": [
    "from scipy.stats import ttest_rel\n",
    "import numpy as np #added this\n",
    "\n",
    "# Randomly generate the data\n",
    "rng = np.random.default_rng() #added this\n",
    "x1 = rng.normal(loc=0.00, scale=1, size=100)\n",
    "x2 = x1 + rng.normal(loc=0.25, scale=1, size=100)\n",
    "\n",
    "# Calculate test statistic and p-value\n",
    "stat, p = ttest_rel(x1, x2)\n",
    "\n",
    "# Interpreation\n",
    "print('stat=%.4f, p=%.4f' % (stat, p))\n",
    "if p > 0.05:\n",
    "    print('Do not reject the null hypothesis and conclude the means of the paired samples are the same.')\n",
    "else:\n",
    "    print('Reject the null hypothesis and conclude the means of the paired samples are not the same.')"
   ]
  },
  {
   "cell_type": "code",
   "execution_count": null,
   "id": "b2de5512",
   "metadata": {},
   "outputs": [],
   "source": []
  }
 ],
 "metadata": {
  "kernelspec": {
   "display_name": "Python 3 (ipykernel)",
   "language": "python",
   "name": "python3"
  },
  "language_info": {
   "codemirror_mode": {
    "name": "ipython",
    "version": 3
   },
   "file_extension": ".py",
   "mimetype": "text/x-python",
   "name": "python",
   "nbconvert_exporter": "python",
   "pygments_lexer": "ipython3",
   "version": "3.9.7"
  }
 },
 "nbformat": 4,
 "nbformat_minor": 5
}
